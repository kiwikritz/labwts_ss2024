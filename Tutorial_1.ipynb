{
  "nbformat": 4,
  "nbformat_minor": 0,
  "metadata": {
    "colab": {
      "provenance": [],
      "include_colab_link": true
    },
    "kernelspec": {
      "name": "python3",
      "display_name": "Python 3"
    },
    "language_info": {
      "name": "python"
    }
  },
  "cells": [
    {
      "cell_type": "markdown",
      "metadata": {
        "id": "view-in-github",
        "colab_type": "text"
      },
      "source": [
        "<a href=\"https://colab.research.google.com/github/kiwikritz/labwts_ss2024/blob/main/Tutorial_1.ipynb\" target=\"_parent\"><img src=\"https://colab.research.google.com/assets/colab-badge.svg\" alt=\"Open In Colab\"/></a>"
      ]
    },
    {
      "cell_type": "code",
      "execution_count": null,
      "metadata": {
        "id": "CTejnNI_X4US",
        "colab": {
          "base_uri": "https://localhost:8080/"
        },
        "outputId": "6472bb52-5100-4740-aa82-39d98b130b09"
      },
      "outputs": [
        {
          "output_type": "stream",
          "name": "stdout",
          "text": [
            "Collecting qiskit\n",
            "  Downloading qiskit-1.2.4-cp38-abi3-manylinux_2_17_x86_64.manylinux2014_x86_64.whl.metadata (12 kB)\n",
            "Collecting rustworkx>=0.15.0 (from qiskit)\n",
            "  Downloading rustworkx-0.15.1-cp38-abi3-manylinux_2_17_x86_64.manylinux2014_x86_64.whl.metadata (9.9 kB)\n",
            "Requirement already satisfied: numpy<3,>=1.17 in /usr/local/lib/python3.10/dist-packages (from qiskit) (1.26.4)\n",
            "Requirement already satisfied: scipy>=1.5 in /usr/local/lib/python3.10/dist-packages (from qiskit) (1.13.1)\n",
            "Requirement already satisfied: sympy>=1.3 in /usr/local/lib/python3.10/dist-packages (from qiskit) (1.13.1)\n",
            "Collecting dill>=0.3 (from qiskit)\n",
            "  Downloading dill-0.3.9-py3-none-any.whl.metadata (10 kB)\n",
            "Requirement already satisfied: python-dateutil>=2.8.0 in /usr/local/lib/python3.10/dist-packages (from qiskit) (2.8.2)\n",
            "Collecting stevedore>=3.0.0 (from qiskit)\n",
            "  Downloading stevedore-5.4.0-py3-none-any.whl.metadata (2.3 kB)\n",
            "Requirement already satisfied: typing-extensions in /usr/local/lib/python3.10/dist-packages (from qiskit) (4.12.2)\n",
            "Collecting symengine<0.14,>=0.11 (from qiskit)\n",
            "  Downloading symengine-0.13.0-cp310-cp310-manylinux_2_17_x86_64.manylinux2014_x86_64.whl.metadata (1.2 kB)\n",
            "Requirement already satisfied: six>=1.5 in /usr/local/lib/python3.10/dist-packages (from python-dateutil>=2.8.0->qiskit) (1.16.0)\n",
            "Collecting pbr>=2.0.0 (from stevedore>=3.0.0->qiskit)\n",
            "  Downloading pbr-6.1.0-py2.py3-none-any.whl.metadata (3.4 kB)\n",
            "Requirement already satisfied: mpmath<1.4,>=1.1.0 in /usr/local/lib/python3.10/dist-packages (from sympy>=1.3->qiskit) (1.3.0)\n",
            "Downloading qiskit-1.2.4-cp38-abi3-manylinux_2_17_x86_64.manylinux2014_x86_64.whl (4.8 MB)\n",
            "\u001b[2K   \u001b[90m━━━━━━━━━━━━━━━━━━━━━━━━━━━━━━━━━━━━━━━━\u001b[0m \u001b[32m4.8/4.8 MB\u001b[0m \u001b[31m63.4 MB/s\u001b[0m eta \u001b[36m0:00:00\u001b[0m\n",
            "\u001b[?25hDownloading dill-0.3.9-py3-none-any.whl (119 kB)\n",
            "\u001b[2K   \u001b[90m━━━━━━━━━━━━━━━━━━━━━━━━━━━━━━━━━━━━━━━━\u001b[0m \u001b[32m119.4/119.4 kB\u001b[0m \u001b[31m8.2 MB/s\u001b[0m eta \u001b[36m0:00:00\u001b[0m\n",
            "\u001b[?25hDownloading rustworkx-0.15.1-cp38-abi3-manylinux_2_17_x86_64.manylinux2014_x86_64.whl (2.0 MB)\n",
            "\u001b[2K   \u001b[90m━━━━━━━━━━━━━━━━━━━━━━━━━━━━━━━━━━━━━━━━\u001b[0m \u001b[32m2.0/2.0 MB\u001b[0m \u001b[31m51.5 MB/s\u001b[0m eta \u001b[36m0:00:00\u001b[0m\n",
            "\u001b[?25hDownloading stevedore-5.4.0-py3-none-any.whl (49 kB)\n",
            "\u001b[2K   \u001b[90m━━━━━━━━━━━━━━━━━━━━━━━━━━━━━━━━━━━━━━━━\u001b[0m \u001b[32m49.5/49.5 kB\u001b[0m \u001b[31m3.7 MB/s\u001b[0m eta \u001b[36m0:00:00\u001b[0m\n",
            "\u001b[?25hDownloading symengine-0.13.0-cp310-cp310-manylinux_2_17_x86_64.manylinux2014_x86_64.whl (49.7 MB)\n",
            "\u001b[2K   \u001b[90m━━━━━━━━━━━━━━━━━━━━━━━━━━━━━━━━━━━━━━━━\u001b[0m \u001b[32m49.7/49.7 MB\u001b[0m \u001b[31m11.9 MB/s\u001b[0m eta \u001b[36m0:00:00\u001b[0m\n",
            "\u001b[?25hDownloading pbr-6.1.0-py2.py3-none-any.whl (108 kB)\n",
            "\u001b[2K   \u001b[90m━━━━━━━━━━━━━━━━━━━━━━━━━━━━━━━━━━━━━━━━\u001b[0m \u001b[32m108.5/108.5 kB\u001b[0m \u001b[31m7.2 MB/s\u001b[0m eta \u001b[36m0:00:00\u001b[0m\n",
            "\u001b[?25hInstalling collected packages: symengine, rustworkx, pbr, dill, stevedore, qiskit\n",
            "Successfully installed dill-0.3.9 pbr-6.1.0 qiskit-1.2.4 rustworkx-0.15.1 stevedore-5.4.0 symengine-0.13.0\n",
            "Collecting qiskit-aer\n",
            "  Downloading qiskit_aer-0.15.1-cp310-cp310-manylinux_2_17_x86_64.manylinux2014_x86_64.whl.metadata (8.0 kB)\n",
            "Requirement already satisfied: qiskit>=1.1.0 in /usr/local/lib/python3.10/dist-packages (from qiskit-aer) (1.2.4)\n",
            "Requirement already satisfied: numpy>=1.16.3 in /usr/local/lib/python3.10/dist-packages (from qiskit-aer) (1.26.4)\n",
            "Requirement already satisfied: scipy>=1.0 in /usr/local/lib/python3.10/dist-packages (from qiskit-aer) (1.13.1)\n",
            "Requirement already satisfied: psutil>=5 in /usr/local/lib/python3.10/dist-packages (from qiskit-aer) (5.9.5)\n",
            "Requirement already satisfied: rustworkx>=0.15.0 in /usr/local/lib/python3.10/dist-packages (from qiskit>=1.1.0->qiskit-aer) (0.15.1)\n",
            "Requirement already satisfied: sympy>=1.3 in /usr/local/lib/python3.10/dist-packages (from qiskit>=1.1.0->qiskit-aer) (1.13.1)\n",
            "Requirement already satisfied: dill>=0.3 in /usr/local/lib/python3.10/dist-packages (from qiskit>=1.1.0->qiskit-aer) (0.3.9)\n",
            "Requirement already satisfied: python-dateutil>=2.8.0 in /usr/local/lib/python3.10/dist-packages (from qiskit>=1.1.0->qiskit-aer) (2.8.2)\n",
            "Requirement already satisfied: stevedore>=3.0.0 in /usr/local/lib/python3.10/dist-packages (from qiskit>=1.1.0->qiskit-aer) (5.4.0)\n",
            "Requirement already satisfied: typing-extensions in /usr/local/lib/python3.10/dist-packages (from qiskit>=1.1.0->qiskit-aer) (4.12.2)\n",
            "Requirement already satisfied: symengine<0.14,>=0.11 in /usr/local/lib/python3.10/dist-packages (from qiskit>=1.1.0->qiskit-aer) (0.13.0)\n",
            "Requirement already satisfied: six>=1.5 in /usr/local/lib/python3.10/dist-packages (from python-dateutil>=2.8.0->qiskit>=1.1.0->qiskit-aer) (1.16.0)\n",
            "Requirement already satisfied: pbr>=2.0.0 in /usr/local/lib/python3.10/dist-packages (from stevedore>=3.0.0->qiskit>=1.1.0->qiskit-aer) (6.1.0)\n",
            "Requirement already satisfied: mpmath<1.4,>=1.1.0 in /usr/local/lib/python3.10/dist-packages (from sympy>=1.3->qiskit>=1.1.0->qiskit-aer) (1.3.0)\n",
            "Downloading qiskit_aer-0.15.1-cp310-cp310-manylinux_2_17_x86_64.manylinux2014_x86_64.whl (12.3 MB)\n",
            "\u001b[2K   \u001b[90m━━━━━━━━━━━━━━━━━━━━━━━━━━━━━━━━━━━━━━━━\u001b[0m \u001b[32m12.3/12.3 MB\u001b[0m \u001b[31m95.0 MB/s\u001b[0m eta \u001b[36m0:00:00\u001b[0m\n",
            "\u001b[?25hInstalling collected packages: qiskit-aer\n",
            "Successfully installed qiskit-aer-0.15.1\n",
            "Collecting pylatexenc\n",
            "  Downloading pylatexenc-2.10.tar.gz (162 kB)\n",
            "\u001b[2K     \u001b[90m━━━━━━━━━━━━━━━━━━━━━━━━━━━━━━━━━━━━━━━━\u001b[0m \u001b[32m162.6/162.6 kB\u001b[0m \u001b[31m6.2 MB/s\u001b[0m eta \u001b[36m0:00:00\u001b[0m\n",
            "\u001b[?25h  Preparing metadata (setup.py) ... \u001b[?25l\u001b[?25hdone\n",
            "Building wheels for collected packages: pylatexenc\n",
            "  Building wheel for pylatexenc (setup.py) ... \u001b[?25l\u001b[?25hdone\n",
            "  Created wheel for pylatexenc: filename=pylatexenc-2.10-py3-none-any.whl size=136816 sha256=8cd204daea2bb8f25637d7ab307fd3997d26c862cdaa0458b8333e34e61ea5af\n",
            "  Stored in directory: /root/.cache/pip/wheels/d3/31/8b/e09b0386afd80cfc556c00408c9aeea5c35c4d484a9c762fd5\n",
            "Successfully built pylatexenc\n",
            "Installing collected packages: pylatexenc\n",
            "Successfully installed pylatexenc-2.10\n"
          ]
        }
      ],
      "source": [
        "%pip install qiskit\n",
        "%pip install qiskit-aer\n",
        "%pip install pylatexenc # dependency needed for plotting"
      ]
    },
    {
      "cell_type": "markdown",
      "source": [
        "## Imports"
      ],
      "metadata": {
        "id": "IJqLKUzyaLY3"
      }
    },
    {
      "cell_type": "code",
      "source": [
        "from qiskit import *\n",
        "import numpy as np"
      ],
      "metadata": {
        "id": "TyrVKuuxYHs4"
      },
      "execution_count": null,
      "outputs": []
    },
    {
      "cell_type": "markdown",
      "source": [
        "# Lecture notes\n",
        "\n",
        "https://drive.google.com/file/d/1TOpVZghIV6Oxf7690U1NL4iGQrOB69FQ/view?usp=sharing"
      ],
      "metadata": {
        "id": "sG42xUSTMr5U"
      }
    },
    {
      "cell_type": "markdown",
      "source": [
        "## Basic single qubit and single classical register circuit"
      ],
      "metadata": {
        "id": "ImcsZEWnaPWQ"
      }
    },
    {
      "cell_type": "markdown",
      "source": [
        "A brief intro into circuits:"
      ],
      "metadata": {
        "id": "pvmbFiA2PPeA"
      }
    },
    {
      "cell_type": "code",
      "source": [
        "def quantum_circuit(state=0):\n",
        "  circuit=QuantumCircuit(1,1) #create a circuit with single quantum register and single classical one\n",
        "  if state == 0:\n",
        "    pass\n",
        "  else:\n",
        "    circuit.x(0) #apply CNOT-gate  to the state of qubit\n",
        "  circuit.h(0)  #apply Hadamard gate to the state of qubit\n",
        "  circuit.measure(0,0)  #measure qubit q[0] into a classical bit 0 in the standard basis (Z-basis)\n",
        "  return circuit"
      ],
      "metadata": {
        "id": "fpjTtPuAY2EJ"
      },
      "execution_count": null,
      "outputs": []
    },
    {
      "cell_type": "code",
      "source": [
        "circuit_1 = quantum_circuit(1)   # create circuit object\n",
        "circuit_1.draw(output = 'mpl')   # plot it"
      ],
      "metadata": {
        "id": "ok5SaFMWZJ6A"
      },
      "execution_count": null,
      "outputs": []
    },
    {
      "cell_type": "markdown",
      "source": [
        "## Circuit execution on ideal quantum simulator"
      ],
      "metadata": {
        "id": "Mxuds32XbdF4"
      }
    },
    {
      "cell_type": "code",
      "source": [
        "from qiskit_aer import AerSimulator\n",
        "shots_number = 1000         #shots_number controls number of measurements of the final state\n",
        "backend = AerSimulator(method='density_matrix', shots=shots_number)     # Simulator\n",
        "result = backend.run(circuit_1).result()                                # Simulator executes circuit\n",
        "shots_result = result.get_counts()\n",
        "# shots_result are results of our measurements"
      ],
      "metadata": {
        "id": "oU7RSAI5bNYN"
      },
      "execution_count": null,
      "outputs": []
    },
    {
      "cell_type": "markdown",
      "source": [
        "This histogram illustrates the number of shots that resulted in qubit in states $|0>$ or $|1>$:"
      ],
      "metadata": {
        "id": "ezfmQ2TSP0T3"
      }
    },
    {
      "cell_type": "code",
      "source": [
        "from qiskit.visualization import plot_histogram\n",
        "plot_histogram(shots_result)"
      ],
      "metadata": {
        "id": "rOMnuQ9xblDk"
      },
      "execution_count": null,
      "outputs": []
    },
    {
      "cell_type": "markdown",
      "source": [
        "## Ramsey Experiment\n",
        "\n",
        "Check for details lectures of Artur Ekert\n",
        "\n",
        "https://youtu.be/T2vpnfX3lJA?si=y6pcCJ4qLx_AJd6u\n",
        "\n",
        "https://youtu.be/TWVL7u06BB4?si=eNMkA8XHMnhiBpsP"
      ],
      "metadata": {
        "id": "KiLr_I-3ixUB"
      }
    },
    {
      "cell_type": "code",
      "source": [
        "shots_number = 10000\n",
        "backend = AerSimulator(method='density_matrix', shots=shots_number)"
      ],
      "metadata": {
        "id": "swoM1UTwacFG"
      },
      "execution_count": null,
      "outputs": []
    },
    {
      "cell_type": "code",
      "source": [
        "def circuit_ramsey(phi):\n",
        "  circuit=QuantumCircuit(1,1) #create a circuit with single quantum register and single classical one\n",
        "  circuit.h(0)\n",
        "  circuit.rz(phi,0) #apply RZ rotation to the state of qubit\n",
        "  circuit.h(0)  #apply Hadamard gate to the state of qubit\n",
        "  circuit.measure(0,0)  #measure qubit q[0] into a classical bit 0 in the standard basis (Z-basis)\n",
        "  return circuit\n"
      ],
      "metadata": {
        "id": "IkO-fUFfgVsf"
      },
      "execution_count": null,
      "outputs": []
    },
    {
      "cell_type": "code",
      "source": [
        "circ = circuit_ramsey(0.4)\n",
        "circ.draw(\"mpl\")"
      ],
      "metadata": {
        "id": "xpoU2eQNafTM"
      },
      "execution_count": null,
      "outputs": []
    },
    {
      "cell_type": "markdown",
      "source": [
        "Lets execute the Ramsey circuit for several different phases $\\phi$."
      ],
      "metadata": {
        "id": "rKLKEX0vQx6O"
      }
    },
    {
      "cell_type": "code",
      "source": [
        "results_vector = []\n",
        "\n",
        "for phi in np.linspace(0,2*np.pi, 17):\n",
        "  result = backend.run(circuit_ramsey(phi)).result()\n",
        "  shots_result = result.get_counts()\n",
        "\n",
        "  if '0' in shots_result:\n",
        "    pass\n",
        "  else:\n",
        "    shots_result['0']= 0.\n",
        "\n",
        "\n",
        "  results_vector.append(shots_result['0']/shots_number)\n",
        "\n",
        "print(results_vector)"
      ],
      "metadata": {
        "id": "B6svYy2LhFml"
      },
      "execution_count": null,
      "outputs": []
    },
    {
      "cell_type": "markdown",
      "source": [
        "Plotting the probability to obtain the final state in $|1>$ after the Ramsey circuit for different phases."
      ],
      "metadata": {
        "id": "KGbGu11sRcfG"
      }
    },
    {
      "cell_type": "code",
      "source": [
        "import matplotlib.pyplot as plt\n",
        "plt.plot(np.linspace(0,2*np.pi, 17), 1 - np.array(results_vector), label = \"Simulator\")\n",
        "plt.plot(np.linspace(0,2*np.pi, 17), np.sin(np.linspace(0,2*np.pi, 17)/2)**2, 'r', label=\"Theoretical\")\n",
        "plt.legend()\n",
        "plt.xlim(0, 2*np.pi)\n",
        "plt.xlabel(\"$\\phi$\")\n",
        "plt.ylim(0, 1)\n",
        "plt.ylabel(\"P(1)\")\n",
        "plt.show()"
      ],
      "metadata": {
        "id": "1jxmYGTRkHmU"
      },
      "execution_count": null,
      "outputs": []
    },
    {
      "cell_type": "markdown",
      "source": [
        "Exercise 1: check the dependence of the probabilities in the Ramsey experiment on the shots number."
      ],
      "metadata": {
        "id": "wxA5hmw3TOqX"
      }
    },
    {
      "cell_type": "markdown",
      "source": [
        "Exercise 2: On the lecture the Bloch sphere representation of the state was defined as: $|\\psi(\\theta, \\phi)> = \\cos(\\theta/2) |0> + \\sin{(\\theta/2)} \\exp{(i\\phi)}|1>$.\n",
        "\n",
        "How can we prepare such a state with Rz and Ry gates? Note, that the state is defined only up to the phase."
      ],
      "metadata": {
        "id": "FleDfWy1TxLH"
      }
    },
    {
      "cell_type": "code",
      "source": [
        "from qiskit.quantum_info import Statevector\n",
        "\n",
        "# create here a circuit qc preparing the Bloch sphere state with angles theta and phi.\n",
        "qc = QuantumCircuit(1)\n",
        "# code here\n",
        "#qc.rz\n",
        "#qc.ry\n",
        "\n",
        "state = Statevector(qc)\n",
        "state.draw(\"bloch\")\n"
      ],
      "metadata": {
        "id": "-VxZgm6IRr8m"
      },
      "execution_count": null,
      "outputs": []
    },
    {
      "cell_type": "markdown",
      "source": [
        "On real quantum devices we can not execute gates ideally. Usually gates have some errors: hardware noise. This noise depends on the device and may influence differently different qubits and gates.\n",
        "\n",
        "The hardware noise is the biggest problem of modern quantum devices, as this noise has ability to proliferate and after some number of gate applications can completely destroy the state.\n",
        "\n",
        "Here we define a simulator (backend) with the simplest error - depolarizing error - after rz and Hadamard gates.\n",
        "\n",
        "Use this backend to execute the Ramsey experiment. What has changed? How does it depend on the error rate? What happens if we change the error to some other error type (for other errors see https://qiskit.github.io/qiskit-aer/tutorials/3_building_noise_models ) ?\n",
        "\n"
      ],
      "metadata": {
        "id": "WDZQ2YyCliXU"
      }
    },
    {
      "cell_type": "code",
      "source": [
        "from qiskit_aer.noise import NoiseModel, depolarizing_error\n",
        "noise_model = NoiseModel()\n",
        "\n",
        "# Add depolarizing error to all single qubit rz, ry gates\n",
        "error_rate = 0.05\n",
        "error = depolarizing_error(error_rate, 1)\n",
        "noise_model.add_all_qubit_quantum_error(error, ['rz', 'ry', 'h'])\n",
        "\n",
        "print(noise_model)\n",
        "\n",
        "shots_number = 1000         #shots_number controls number of measurements of the final state\n",
        "backend = AerSimulator(method='density_matrix', shots=shots_number, noise_model=noise_model)"
      ],
      "metadata": {
        "id": "ujPT-HGlg4bt"
      },
      "execution_count": null,
      "outputs": []
    }
  ]
}